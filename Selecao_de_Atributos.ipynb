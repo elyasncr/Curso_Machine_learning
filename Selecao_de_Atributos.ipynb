{
  "nbformat": 4,
  "nbformat_minor": 0,
  "metadata": {
    "colab": {
      "provenance": [],
      "authorship_tag": "ABX9TyMcshkQw3HigW7k+bthlvLk",
      "include_colab_link": true
    },
    "kernelspec": {
      "name": "python3",
      "display_name": "Python 3"
    },
    "language_info": {
      "name": "python"
    }
  },
  "cells": [
    {
      "cell_type": "markdown",
      "metadata": {
        "id": "view-in-github",
        "colab_type": "text"
      },
      "source": [
        "<a href=\"https://colab.research.google.com/github/elyasncr/Curso_Machine_learning/blob/main/Selecao_de_Atributos.ipynb\" target=\"_parent\"><img src=\"https://colab.research.google.com/assets/colab-badge.svg\" alt=\"Open In Colab\"/></a>"
      ]
    },
    {
      "cell_type": "markdown",
      "source": [
        "## Seleção de Características Importantes\n",
        "*   Definir quais caracterísitcas, entre as \"naturais\" e as produzidas, são mais importantes para a performance do modelo.\n",
        "\n",
        "### Maldição da Dimensionalidade\n",
        "* A inclusão de muitas características do modelo deteriora sua performance, tornando o modelo super ajustado\n",
        "\n",
        "******************************\n",
        "\n",
        "#### Qual é o subconjunto de atributos que torna o modelo mais genérico?\n",
        "* Atributos generalistas VS atributos específicos\n",
        "* Atributos não correlacionados\n",
        "\n",
        "#### Técnincas utilizadas para a seleção de atributos\n",
        "* Força bruta --> forçar o dado a ser aquilo necessário\n",
        "* Testes estatísticos: Anova, Chi-Square\n",
        "\n",
        "\n",
        "\n",
        "\n",
        "\n"
      ],
      "metadata": {
        "id": "2poQ49pDlWyM"
      }
    },
    {
      "cell_type": "code",
      "execution_count": 1,
      "metadata": {
        "id": "JAYFsQo6lTXK"
      },
      "outputs": [],
      "source": [
        "import pandas as pd\n",
        "from sklearn.model_selection import train_test_split\n",
        "from sklearn.naive_bayes import GaussianNB\n",
        "from sklearn.metrics import accuracy_score\n",
        "from sklearn.feature_selection import chi2, SelectKBest"
      ]
    },
    {
      "cell_type": "code",
      "source": [
        "#Chamando a nossa base de dados\n",
        "anuncio = pd.read_csv('ad.data', header=None)\n",
        "\n",
        "# Exibindo a quantidade de linhas e colunas\n",
        "anuncio.shape"
      ],
      "metadata": {
        "colab": {
          "base_uri": "https://localhost:8080/"
        },
        "id": "l79QBFO1oLBV",
        "outputId": "9cbbe252-deba-4a8d-f09b-b61701d384a3"
      },
      "execution_count": 2,
      "outputs": [
        {
          "output_type": "execute_result",
          "data": {
            "text/plain": [
              "(3279, 1559)"
            ]
          },
          "metadata": {},
          "execution_count": 2
        }
      ]
    },
    {
      "cell_type": "code",
      "source": [
        "# Alocando todas as colunas na variável X, exceto a última coluna\n",
        "X = anuncio.iloc[:,:-1].values\n",
        "\n",
        "# Alocando a última coluna na variável Y\n",
        "y = anuncio.iloc[:,-1].values"
      ],
      "metadata": {
        "id": "21a3yP_coagG"
      },
      "execution_count": 3,
      "outputs": []
    },
    {
      "cell_type": "code",
      "source": [
        "# Valores alocados em X\n",
        "X"
      ],
      "metadata": {
        "colab": {
          "base_uri": "https://localhost:8080/"
        },
        "id": "JzlS7I4RootZ",
        "outputId": "90b4e733-9aec-45f9-cb5b-0d39ada78ba0"
      },
      "execution_count": 4,
      "outputs": [
        {
          "output_type": "execute_result",
          "data": {
            "text/plain": [
              "array([[125.    , 125.    ,   1.    , ...,   0.    ,   0.    ,   0.    ],\n",
              "       [ 57.    , 468.    ,   8.2105, ...,   0.    ,   0.    ,   0.    ],\n",
              "       [ 33.    , 230.    ,   6.9696, ...,   0.    ,   0.    ,   0.    ],\n",
              "       ...,\n",
              "       [ 23.    , 120.    ,   5.2173, ...,   0.    ,   0.    ,   0.    ],\n",
              "       [  0.    ,   0.    ,   0.    , ...,   0.    ,   0.    ,   0.    ],\n",
              "       [ 40.    ,  40.    ,   1.    , ...,   0.    ,   0.    ,   0.    ]])"
            ]
          },
          "metadata": {},
          "execution_count": 4
        }
      ]
    },
    {
      "cell_type": "code",
      "source": [
        "# Valores alocados em Y\n",
        "y"
      ],
      "metadata": {
        "colab": {
          "base_uri": "https://localhost:8080/"
        },
        "id": "W1VskU2T7UHz",
        "outputId": "7241a35d-6b46-469e-8a3d-10564c63525f"
      },
      "execution_count": 5,
      "outputs": [
        {
          "output_type": "execute_result",
          "data": {
            "text/plain": [
              "array(['ad.', 'ad.', 'ad.', ..., 'nonad.', 'nonad.', 'nonad.'],\n",
              "      dtype=object)"
            ]
          },
          "metadata": {},
          "execution_count": 5
        }
      ]
    },
    {
      "cell_type": "code",
      "source": [
        "# Criando o treinamento e teste para X e Y\n",
        "X_treinamento, X_teste, y_treinamento, y_teste = train_test_split(X,y, test_size=0.3, random_state=0)"
      ],
      "metadata": {
        "id": "2g5oSYO87W-O"
      },
      "execution_count": 6,
      "outputs": []
    },
    {
      "cell_type": "code",
      "source": [
        "# Usando o método de Gaus após o treinamento\n",
        "modelo1 = GaussianNB()\n",
        "modelo1.fit(X_treinamento, y_treinamento)\n",
        "\n",
        "# Fazendo a previsão do modelo de Gaus e o teste de performance\n",
        "previsoes1 = modelo1.predict(X_teste)\n",
        "performance = accuracy_score(y_teste, previsoes1)"
      ],
      "metadata": {
        "id": "UeNdUfOn7vYB"
      },
      "execution_count": 8,
      "outputs": []
    },
    {
      "cell_type": "markdown",
      "source": [
        "Atraves da performance estamos testando o que aconteceu com o modelo e a sua previsão.\n",
        "Fazendo um comparativo entre o que aconteceu e o que estamos prevendo."
      ],
      "metadata": {
        "id": "jyeATiTF9Ciw"
      }
    },
    {
      "cell_type": "code",
      "source": [
        "# Resultado da performance\n",
        "print(performance)"
      ],
      "metadata": {
        "colab": {
          "base_uri": "https://localhost:8080/"
        },
        "id": "F0UDo6uJ9mE3",
        "outputId": "f6b2b41b-dbcb-4d04-c4c6-6cec887d72ad"
      },
      "execution_count": 9,
      "outputs": [
        {
          "output_type": "stream",
          "name": "stdout",
          "text": [
            "0.7764227642276422\n"
          ]
        }
      ]
    },
    {
      "cell_type": "markdown",
      "source": [
        "Com o resultado da performance obtivemos 77% de performance sobre o modelo de Gaus"
      ],
      "metadata": {
        "id": "4iQTJxBz95LQ"
      }
    },
    {
      "cell_type": "code",
      "source": [
        "# Selecionando atributos para um novo modelo de Gaus\n",
        "selecao = SelectKBest(chi2, k=7)\n",
        "\n",
        "# Retornando os atributos selecionados para a nova variável --> Passando X e Y para o Select selecionar os melhores dados p/ conjunto\n",
        "X_novo = selecao.fit_transform(X,y)"
      ],
      "metadata": {
        "id": "gnda365v94Na"
      },
      "execution_count": 11,
      "outputs": []
    },
    {
      "cell_type": "code",
      "source": [
        "# Novo conjunto de dados com os atributos separados\n",
        "X_novo\n"
      ],
      "metadata": {
        "colab": {
          "base_uri": "https://localhost:8080/"
        },
        "id": "nCMQfrUS-28N",
        "outputId": "5b6e58d1-e461-4d2c-b902-8459ea8d1f47"
      },
      "execution_count": 14,
      "outputs": [
        {
          "output_type": "execute_result",
          "data": {
            "text/plain": [
              "array([[125.    , 125.    ,   1.    , ...,   1.    ,   0.    ,   1.    ],\n",
              "       [ 57.    , 468.    ,   8.2105, ...,   1.    ,   0.    ,   0.    ],\n",
              "       [ 33.    , 230.    ,   6.9696, ...,   0.    ,   0.    ,   0.    ],\n",
              "       ...,\n",
              "       [ 23.    , 120.    ,   5.2173, ...,   0.    ,   0.    ,   0.    ],\n",
              "       [  0.    ,   0.    ,   0.    , ...,   0.    ,   0.    ,   0.    ],\n",
              "       [ 40.    ,  40.    ,   1.    , ...,   0.    ,   0.    ,   0.    ]])"
            ]
          },
          "metadata": {},
          "execution_count": 14
        }
      ]
    },
    {
      "cell_type": "code",
      "source": [
        "# Exibindo a quantidade de linhas e colunas\n",
        "X_novo.shape"
      ],
      "metadata": {
        "colab": {
          "base_uri": "https://localhost:8080/"
        },
        "id": "DcGavgHK_aLR",
        "outputId": "03a8f558-3fb6-476f-e5f1-54fc717d04ed"
      },
      "execution_count": 15,
      "outputs": [
        {
          "output_type": "execute_result",
          "data": {
            "text/plain": [
              "(3279, 7)"
            ]
          },
          "metadata": {},
          "execution_count": 15
        }
      ]
    },
    {
      "cell_type": "markdown",
      "source": [
        "Se repararmos vemos que o conjunto de dados inicial tinha 1559 colunas, neste novo conjunto temos apenas 7."
      ],
      "metadata": {
        "id": "3Dx0jyvL_HSw"
      }
    },
    {
      "cell_type": "code",
      "source": [
        "# Metodo para exbir as colunas selecionas\n",
        "print(selecao.get_support())"
      ],
      "metadata": {
        "colab": {
          "base_uri": "https://localhost:8080/"
        },
        "id": "G91kdtim_FBr",
        "outputId": "9121e7f8-a811-450d-b62f-3d8f536f093d"
      },
      "execution_count": 16,
      "outputs": [
        {
          "output_type": "stream",
          "name": "stdout",
          "text": [
            "[ True  True  True ... False False False]\n"
          ]
        }
      ]
    },
    {
      "cell_type": "markdown",
      "source": [
        "Como temos um grande número de colunas, e elas não têm nome, vemos somente True para coluna selecionada e False para não selecionada."
      ],
      "metadata": {
        "id": "6G_7_cFL_xHx"
      }
    },
    {
      "cell_type": "code",
      "source": [
        "# Novo treinamento para o conjunto de dados X_novo\n",
        "X_treinamento, X_teste, y_treinamento, y_teste = train_test_split(X_novo,y, test_size=0.3, random_state=0)"
      ],
      "metadata": {
        "id": "CtAGXHyS_vzI"
      },
      "execution_count": 17,
      "outputs": []
    },
    {
      "cell_type": "code",
      "source": [
        "# Usando o método de Gaus após o treinamento do modelo novo\n",
        "modelo2 = GaussianNB()\n",
        "modelo2.fit(X_treinamento, y_treinamento)\n",
        "\n",
        "# Fazendo a previsão do modelo de Gaus e o teste de performance  para o modelo novo\n",
        "previsoes2 = modelo2.predict(X_teste)\n",
        "performance2 = accuracy_score(y_teste, previsoes2)"
      ],
      "metadata": {
        "id": "mLgPeI7ZAPZu"
      },
      "execution_count": 18,
      "outputs": []
    },
    {
      "cell_type": "code",
      "source": [
        "# Resultado da performance\n",
        "print(performance2)"
      ],
      "metadata": {
        "colab": {
          "base_uri": "https://localhost:8080/"
        },
        "id": "Za95QMtBAaPr",
        "outputId": "1d7b29fa-ee32-404d-987c-53039f511ec4"
      },
      "execution_count": 19,
      "outputs": [
        {
          "output_type": "stream",
          "name": "stdout",
          "text": [
            "0.9451219512195121\n"
          ]
        }
      ]
    },
    {
      "cell_type": "markdown",
      "source": [
        "Com o resultado da performance do modelo 1 obtivemos 77% de performance sobre o modelo de Gaus.\n",
        "\n",
        "Após selecionarmos os atributos para uma análise mais precisa, obtivemos um ganho de 17% em cima do modelo 1. Sendo assim, a performance do modelo 2 foi de 94%."
      ],
      "metadata": {
        "id": "ESy901eAAuXA"
      }
    },
    {
      "cell_type": "code",
      "source": [],
      "metadata": {
        "id": "ehgmLpL4AdjO"
      },
      "execution_count": null,
      "outputs": []
    }
  ]
}