{
  "nbformat": 4,
  "nbformat_minor": 0,
  "metadata": {
    "colab": {
      "provenance": [],
      "authorship_tag": "ABX9TyM3QLFKg//btsmHleJK+pHN",
      "include_colab_link": true
    },
    "kernelspec": {
      "name": "python3",
      "display_name": "Python 3"
    },
    "language_info": {
      "name": "python"
    }
  },
  "cells": [
    {
      "cell_type": "markdown",
      "metadata": {
        "id": "view-in-github",
        "colab_type": "text"
      },
      "source": [
        "<a href=\"https://colab.research.google.com/github/elyasncr/Curso_Machine_learning/blob/main/Avaliando_e_Comparando_a_Performance_de_Modelos.ipynb\" target=\"_parent\"><img src=\"https://colab.research.google.com/assets/colab-badge.svg\" alt=\"Open In Colab\"/></a>"
      ]
    },
    {
      "cell_type": "markdown",
      "source": [
        "# Cenário\n",
        "### Buscando modelo com mlehor desempenho em projeto de Machine Learning. No primeiro teste:\n",
        "* Modelo Naive Bayes tem desempenho de 78%\n",
        "* Modelo Multilayer Perceptron tem desempenho de 80%\n",
        "\n",
        "### Porém, o custo computacional é o seguinte:\n",
        "* Naive Bayes: criação do modelo em 3 minutos\n",
        "* Multilayer Perceptron: criação do modelo em duas horas\n",
        "\n",
        "# Pergunta:\n",
        "### Existe diferença estatisticamente significante entre os modelos (Naive Bayes: 78% e Multilayer Perceptron: 80%), ou esta diferença é devido ao acaso?\n",
        "Se estes 2% forem reais, usaremos Multilayer Perceptron. Caso contrário, usaremos Naive Bayes\n",
        "\n",
        "# Solução:\n",
        "### Teste de Hipótese Comparando Duas Médias Populacionais\n",
        "Primeio passo, coletar amostras aleatórias dos dois casos, ou seja, criar vários modelos de Naive Bayes e de Multilayer Perceptron, e anotar os resultados. Vamos supor que faremos 40 testes com cada algoritmo ( a tabela abaixo é o resultado parcial)\n",
        "\n",
        "$$ \\begin{vmatrix}\n",
        "Naive Bayes & Multilayer Perceptron \\\\78 & 80\\\\78 & 79\\\\78 & 82\\\\79 & 79\\\\80 & 80\\\\79 & 79\\\\82 & 78\\\\82 & 78\\\\82 & 80\\\\78 & 79\\\\78 & 82\\\\ ... & ... \\end{vmatrix}$$\n",
        "\n",
        "##### OBS: Você precisa usar um processo aleatório de geração de dados de teste e treino para gerar os modelos, caso contrário todos terão o mesmo resultado.\n",
        "\n",
        "### Teste de Hipótese comparando Duas Médias Populacionais\n",
        "* Considerando X = Naive Bayes e Y = Multilayer Perceptron\n",
        "#### Etapas\n",
        "* Calcular as médias ($\\overline{X}$, $\\overline{Y}$) e os desvios padrão (Sx, Sy) das amostras\n",
        "* Anotas o tamanho das amostras = 40\n",
        "* $\\overline{X} = 79,2$\n",
        "* $\\overline{Y} = 79,8$\n",
        "* Sx = 2,61\n",
        "* Sy = 2,31\n",
        "* n1 = 40\n",
        "* n2 = 40\n",
        "### A hipótese nula é que a diferença da média das duas populações é igual a zero:\n",
        "* Ho = μx - μy = 0\n",
        "\n",
        "* Fórmula da estatística de teste: $\\frac{(\\overline{X}-\\overline{Y})}{\\sqrt{\\frac{Sx^2}{n1} + \\frac{Sy^2}{n2}}}$\n",
        "\n",
        "#### Solução\n",
        "* Calcule a diferença entre as médias das amostras: (79,2 - 79,8)=-0,6\n",
        "* Calcule o erro padrão: $\\sqrt{\\frac{Sx^2}{n1} + \\frac{Sy^2}{n2}}$ = = $\\sqrt{\\frac{6,81}{40} + \\frac{5,33}{40}}$ = 0,54\n",
        "*  Divisão das médias pelo erro padrão: $\\frac{-0,6}{0,54}$ = -1,11\n",
        "\n",
        "* Procurar -1.11 na tabela Z = 0,1335 (tabela mostrada na aula, não sendo possível recriar aqui)\n",
        "\n",
        "* p = 0,1334\n",
        "* Teste não igual (bicaudal): 2 xp = 0,1335 = 0,267\n",
        "* α = 0,05\n",
        "* valor - p 0,276 > 0,05\n",
        "\n",
        "## Conclusão\n",
        "* Não há evidências para rejeitar Ho\n",
        "* Não existe uma diferença estatística significante entre Naive Bayes e Multilayer Perceptron"
      ],
      "metadata": {
        "id": "kF8eeGLdywKL"
      }
    },
    {
      "cell_type": "code",
      "execution_count": null,
      "metadata": {
        "id": "p05msnHNvub6"
      },
      "outputs": [],
      "source": []
    }
  ]
}