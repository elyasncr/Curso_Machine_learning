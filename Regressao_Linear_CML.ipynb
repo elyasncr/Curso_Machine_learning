{
  "nbformat": 4,
  "nbformat_minor": 0,
  "metadata": {
    "colab": {
      "provenance": [],
      "authorship_tag": "ABX9TyPBFjJnasf0fNyjwZ5cZzgO",
      "include_colab_link": true
    },
    "kernelspec": {
      "name": "python3",
      "display_name": "Python 3"
    },
    "language_info": {
      "name": "python"
    }
  },
  "cells": [
    {
      "cell_type": "markdown",
      "metadata": {
        "id": "view-in-github",
        "colab_type": "text"
      },
      "source": [
        "<a href=\"https://colab.research.google.com/github/elyasncr/Curso_Machine_learning/blob/main/Regressao_Linear_CML.ipynb\" target=\"_parent\"><img src=\"https://colab.research.google.com/assets/colab-badge.svg\" alt=\"Open In Colab\"/></a>"
      ]
    },
    {
      "cell_type": "code",
      "execution_count": 8,
      "metadata": {
        "id": "XKiuF_fOF1HF"
      },
      "outputs": [],
      "source": [
        "from numpy import *\n",
        "\n",
        "class LinearRegression:\n",
        "        def __init__(self, x, y):\n",
        "            self.x = x\n",
        "            self.y = y\n",
        "            self.__correlation__coefficient = self.__correlacao()\n",
        "            self.__inclination = self.__inclinacao()\n",
        "            self.__intercept = self.__interceptacao()\n",
        "\n",
        "        def __correlacao(self):\n",
        "            covariacao = cov(self.x, self.y, bias=True)[0][1]\n",
        "            variancia_x = var(self.x)\n",
        "            variancia_y = var(self.y)\n",
        "            return (covariacao / sqrt(variancia_x * variancia_y))\n",
        "\n",
        "\n",
        "        def __inclinacao(self):\n",
        "            stdx = std(self.x)\n",
        "            stdy = std(self.y)\n",
        "            return self.__correlation__coefficient * (stdy / stdx)\n",
        "\n",
        "\n",
        "        def __interceptacao(self):\n",
        "            mediax = mean(self.x)\n",
        "            mediay = mean(self.y)\n",
        "            return mediay - mediax * self.__inclination\n",
        "\n",
        "\n",
        "        def previsao(self, valor):\n",
        "            return self.__intercept + (self.__inclination * valor)"
      ]
    },
    {
      "cell_type": "code",
      "source": [
        "x = array([1,2,3,4,5])\n",
        "y = array([2,4,6,8,10])\n",
        "\n",
        "lr = LinearRegression(x,y)\n",
        "\n",
        "previsao = lr.previsao(6)\n",
        "\n",
        "print(previsao)"
      ],
      "metadata": {
        "colab": {
          "base_uri": "https://localhost:8080/"
        },
        "id": "dI_25GBiI78t",
        "outputId": "c0e12d72-2616-4df6-c1b6-47d4e02929a1"
      },
      "execution_count": 9,
      "outputs": [
        {
          "output_type": "stream",
          "name": "stdout",
          "text": [
            "12.0\n"
          ]
        }
      ]
    },
    {
      "cell_type": "code",
      "source": [],
      "metadata": {
        "id": "z2jYEo2sJRsS"
      },
      "execution_count": null,
      "outputs": []
    }
  ]
}