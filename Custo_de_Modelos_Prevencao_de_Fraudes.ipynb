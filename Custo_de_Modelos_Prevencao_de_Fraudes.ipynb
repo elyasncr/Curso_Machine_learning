{
  "nbformat": 4,
  "nbformat_minor": 0,
  "metadata": {
    "colab": {
      "provenance": [],
      "authorship_tag": "ABX9TyPqEnnqI0sXwbsR79Af8kTZ",
      "include_colab_link": true
    },
    "kernelspec": {
      "name": "python3",
      "display_name": "Python 3"
    },
    "language_info": {
      "name": "python"
    }
  },
  "cells": [
    {
      "cell_type": "markdown",
      "metadata": {
        "id": "view-in-github",
        "colab_type": "text"
      },
      "source": [
        "<a href=\"https://colab.research.google.com/github/elyasncr/Curso_Machine_learning/blob/main/Custo_de_Modelos_Prevencao_de_Fraudes.ipynb\" target=\"_parent\"><img src=\"https://colab.research.google.com/assets/colab-badge.svg\" alt=\"Open In Colab\"/></a>"
      ]
    },
    {
      "cell_type": "markdown",
      "source": [
        "# Prevenção de Fraude\n",
        "### Treino = 1000 registros\n",
        "\n",
        "### Modelo A\n",
        "* Precisão: 70%\n",
        "### Taxas de Erros\n",
        "* Falsos Positivos: 250 (25%)\n",
        "* Falsos Negativos: 50 (5%)\n",
        "\n",
        "\n",
        "\n",
        "### Modelo B\n",
        "* Precisão: 69%\n",
        "### Taxas de Erros\n",
        "* Falsos Positivos: 230 (23%)\n",
        "* Falsos Negativos: 80 (8%)\n",
        "\n",
        "\n",
        "### O que são os falsos positvos e os falsos negativos?\n",
        " * Falsos Positivos: Maus pagadores, mas que eu vou ceder empréstimo. Prejuízo!\n",
        "    * Perda de dinheiro\n",
        "\n",
        "* Falsos Negativos: Bons pagadores, mas que eu não vou ceder empréstimo. Perda de bons negócios!\n",
        "    * Perda de oportunidade com bons possíveis clientes\n",
        "\n",
        "### Custo\n",
        "* Ceder um empréstimo a um mal pagador:\n",
        "    * perda média de R$ 1.000,00\n",
        "* Perder uma oportunidade de empréstimo:\n",
        "    * perda média de R$ 450,00\n",
        "\n",
        "### Tabela compartiva do custo dos modelos A e B sobre perda de dinheiro e perda de oportunidade\n",
        "\n",
        "$$\\begin{vmatrix} Modelo & Modelo A & Modelo B\\\\PerdaDeDinheiro & 250.000 & 230.000\\\\ PerdaDeOportunidade & 22.500 & 36.000\\\\ PerdaTotal & 272.500 & 266.000 \\end{vmatrix}$$\n",
        "\n",
        "### Cálculo usado na tabela acima\n",
        "* Perda de dinheiro do modelo A:\n",
        "    * Falso positivo: 1.000 * 250 = 250.000\n",
        "    * Falso negativo: 450 * 50 = 22.500\n",
        "* Perda de dinheiro do modelo B:\n",
        "    * Falso positivo: 1.000 * 230 = 230.000\n",
        "    * Falso negativo: 450 * 80 = 36.000\n",
        "\n",
        "* Perda total:\n",
        "    * Modelo A: Falso negativo + Falso positivo = 272.500\n",
        "    * Modelo B: Falso negativo + Falso positivo = 266.000\n",
        "\n",
        "\n",
        "### Como \"melhorar\" um modelo?\n",
        "* Testando diferentes algoritmos\n",
        "* Parametrizando algoritmos\n",
        "* Selecionando e tratando dados\n",
        "* Seleção de atributos\n"
      ],
      "metadata": {
        "id": "2e-IU2feOktk"
      }
    },
    {
      "cell_type": "code",
      "execution_count": null,
      "metadata": {
        "id": "agJjPT2gN2CN"
      },
      "outputs": [],
      "source": []
    }
  ]
}