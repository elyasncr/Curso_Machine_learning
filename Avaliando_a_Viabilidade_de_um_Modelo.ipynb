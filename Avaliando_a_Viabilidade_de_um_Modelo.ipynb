{
  "nbformat": 4,
  "nbformat_minor": 0,
  "metadata": {
    "colab": {
      "provenance": [],
      "authorship_tag": "ABX9TyOXDFoeCW6q4iQ2Vq75n6cj",
      "include_colab_link": true
    },
    "kernelspec": {
      "name": "python3",
      "display_name": "Python 3"
    },
    "language_info": {
      "name": "python"
    }
  },
  "cells": [
    {
      "cell_type": "markdown",
      "metadata": {
        "id": "view-in-github",
        "colab_type": "text"
      },
      "source": [
        "<a href=\"https://colab.research.google.com/github/elyasncr/Curso_Machine_learning/blob/main/Avaliando_a_Viabilidade_de_um_Modelo.ipynb\" target=\"_parent\"><img src=\"https://colab.research.google.com/assets/colab-badge.svg\" alt=\"Open In Colab\"/></a>"
      ]
    },
    {
      "cell_type": "markdown",
      "source": [
        "# Cenário 1\n",
        "\n",
        "* Seu cliente vende um produto on-line a preço fixo: 50,00\n",
        "* Sâo feitas 30mil transações por mês\n",
        "* 15% das transações são fraudulentas (4500)\n",
        "* Faturamento mensal: 1.275.000,00\n",
        "* Perdas com Fraude: 225.000,00\n",
        "\n",
        "* Margem de lucro (5%): 63.750,00\n",
        "\n",
        "    * Posso reduzir minha perda com fraudes?\n",
        "\n",
        "***************************************************\n",
        "\n",
        "# Cenário 2\n",
        "#### Você coleta dados, faz testes e consegue criar um modelo com acerto de 90%.\n",
        "\n",
        "* Proposta:\n",
        "    * Reduzir fraude de 15% para 10%;\n",
        "    * Faturamento mensal: de 1.275.000,00 para 1.350.000,00\n",
        "    * Perdas com Fraude: de 225.000,00 para 150.000,00\n",
        "\n",
        "* Custo do projeto de: 300.000,00\n",
        "* ROI em apenas 4 meses!\n",
        "*******************************************\n",
        "\n",
        "# Questão:\n",
        "#### É seguro afirmar um acerto de 90%?\n",
        "Não, por que estamos trabalhando com amostras, e estas estão suejeitas a variabilidade\n",
        "\n",
        "*Agravante:* Modelos de negócio mudam rapidamente, e isso pode influenciar o seu resultado, as vezes de forma mais rápida do que sua atualização do modelo.\n",
        "*********************************************************\n",
        "\n",
        "# Como fazer?\n",
        "#### Prever uma variabilidade no resultado\n",
        "#### De que forma: intervalos de confiança\n",
        "\n",
        "* Intervalo de confiança para a média(rodando várias vezes e usando a média), ou\n",
        "* Intervalo de confiança para a proporção (rodando o modelo uma única vez)\n",
        "\n",
        "*****************************************************\n",
        "###Intervalo de Confiança para a Média\n",
        "* 100 modelos criados - amostra (n)\n",
        "* Intervalo de confiança: 95%\n",
        "* Desvio padrão: 12,61\n",
        "* Média: 88,2\n",
        "\n",
        "acerto médio do modelo de machine learning deve variar 85,7% e 90,67%, com um nível de confiança de 95%.\n",
        "\n",
        "###### ***OBS: Os dados de treino dos modelos devem ser escolhidos por funções que deem aos mesmos as mesmas chances de serem selecionados!***"
      ],
      "metadata": {
        "id": "PDNk21Fovxnb"
      }
    },
    {
      "cell_type": "markdown",
      "source": [
        "### Fórmula do intervalo de confiança para média\n",
        "\n",
        "$$ μ= \\overline{X} ± z * \\frac{\\sigma}{\\sqrt{n}}$$\n",
        "\n",
        "### Realizando as contas com os valores acima, temos:\n",
        "$$ μ=\\overline{X} ± 1,96 * (\\frac{12,61}{\\sqrt{100}})$$\n",
        "\n",
        "### Obetendo um resultado para o intervalo de confiança de:\n",
        "$$ μ=\\overline{X} ± 2,47$$"
      ],
      "metadata": {
        "id": "LpRzw3UeFbZv"
      }
    },
    {
      "cell_type": "markdown",
      "source": [
        "### Intervalo de Confiança para a Proporção\n",
        "* 1000 registros (n) (dados inteiros)\n",
        "* Intervalo de confiança 95%\n",
        "* Valor de Z = 1,96\n",
        "* P(a)= 0.9\n",
        "* P(e)= 0.1\n",
        "\n",
        "A proporção de acertos esperado da aplicação de Machine Learning na detecção de fraudes, é entre 88% e 92%, com um nível de confiança de 95%.\n"
      ],
      "metadata": {
        "id": "LXc47ogBJVl3"
      }
    },
    {
      "cell_type": "markdown",
      "source": [
        "### Fórmula para o Intervalo de Confiança para a Proporção\n",
        "\n",
        "$$ \\hat{p} ± Z * \\sqrt{\\frac{\\hat{p}(1- \\hat{p})}{n}} $$\n",
        "\n",
        "### Realizando as contas com os valores acima, temos:\n",
        "$$ \\hat{p} ± 1,96 * \\sqrt{\\frac{0,9(1-0,9)}{1000}} $$\n",
        "\n",
        "### Obtendo um resultado para o Intervalo de Confiança de Proporção\n",
        "\n",
        "$$ \\hat{p} ± 0,02 $$"
      ],
      "metadata": {
        "id": "d-wcQjY6J0qo"
      }
    },
    {
      "cell_type": "markdown",
      "source": [],
      "metadata": {
        "id": "vjW_t54WEOVJ"
      }
    },
    {
      "cell_type": "code",
      "execution_count": null,
      "metadata": {
        "id": "3RBWBYAcvpIU"
      },
      "outputs": [],
      "source": []
    }
  ]
}